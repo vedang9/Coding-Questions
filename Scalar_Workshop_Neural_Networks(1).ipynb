{
  "nbformat": 4,
  "nbformat_minor": 0,
  "metadata": {
    "colab": {
      "name": "Scalar Workshop- Neural Networks(1).ipynb",
      "provenance": [],
      "collapsed_sections": [],
      "authorship_tag": "ABX9TyNnQZNR4dM8zpNJyf647Ik/",
      "include_colab_link": true
    },
    "kernelspec": {
      "name": "python3",
      "display_name": "Python 3"
    },
    "accelerator": "GPU"
  },
  "cells": [
    {
      "cell_type": "markdown",
      "metadata": {
        "id": "view-in-github",
        "colab_type": "text"
      },
      "source": [
        "<a href=\"https://colab.research.google.com/github/vedang9/Coding-Questions/blob/master/Scalar_Workshop_Neural_Networks(1).ipynb\" target=\"_parent\"><img src=\"https://colab.research.google.com/assets/colab-badge.svg\" alt=\"Open In Colab\"/></a>"
      ]
    },
    {
      "cell_type": "code",
      "metadata": {
        "id": "YPzrZ0SpT2go",
        "colab_type": "code",
        "colab": {}
      },
      "source": [
        "import keras"
      ],
      "execution_count": 449,
      "outputs": []
    },
    {
      "cell_type": "code",
      "metadata": {
        "id": "5F84Xh20T56V",
        "colab_type": "code",
        "colab": {}
      },
      "source": [
        "from keras.datasets import mnist"
      ],
      "execution_count": 450,
      "outputs": []
    },
    {
      "cell_type": "code",
      "metadata": {
        "id": "GtMnVbm6t93P",
        "colab_type": "code",
        "colab": {}
      },
      "source": [
        "data = mnist.load_data()"
      ],
      "execution_count": 451,
      "outputs": []
    },
    {
      "cell_type": "code",
      "metadata": {
        "id": "ULotn26MuEFk",
        "colab_type": "code",
        "colab": {}
      },
      "source": [
        "(train_images, train_labels),(test_images, test_labels) = data"
      ],
      "execution_count": 452,
      "outputs": []
    },
    {
      "cell_type": "code",
      "metadata": {
        "id": "bsEEr6EbuaPL",
        "colab_type": "code",
        "colab": {
          "base_uri": "https://localhost:8080/",
          "height": 34
        },
        "outputId": "0bc69a2d-958b-4672-d0be-f819d739b2bf"
      },
      "source": [
        "len(train_images)"
      ],
      "execution_count": 453,
      "outputs": [
        {
          "output_type": "execute_result",
          "data": {
            "text/plain": [
              "60000"
            ]
          },
          "metadata": {
            "tags": []
          },
          "execution_count": 453
        }
      ]
    },
    {
      "cell_type": "code",
      "metadata": {
        "id": "ly0kSBUrufLz",
        "colab_type": "code",
        "colab": {
          "base_uri": "https://localhost:8080/",
          "height": 34
        },
        "outputId": "8b8902bd-56c7-4e16-8719-28439ff1b346"
      },
      "source": [
        "len(train_labels)"
      ],
      "execution_count": 454,
      "outputs": [
        {
          "output_type": "execute_result",
          "data": {
            "text/plain": [
              "60000"
            ]
          },
          "metadata": {
            "tags": []
          },
          "execution_count": 454
        }
      ]
    },
    {
      "cell_type": "code",
      "metadata": {
        "id": "vyFyEDx-uw2i",
        "colab_type": "code",
        "colab": {
          "base_uri": "https://localhost:8080/",
          "height": 34
        },
        "outputId": "05451b5e-de21-4231-fb12-d7166fc3ddf0"
      },
      "source": [
        "len(test_images)\n"
      ],
      "execution_count": 455,
      "outputs": [
        {
          "output_type": "execute_result",
          "data": {
            "text/plain": [
              "10000"
            ]
          },
          "metadata": {
            "tags": []
          },
          "execution_count": 455
        }
      ]
    },
    {
      "cell_type": "code",
      "metadata": {
        "id": "b6vV1CDUvEKb",
        "colab_type": "code",
        "colab": {
          "base_uri": "https://localhost:8080/",
          "height": 34
        },
        "outputId": "36d0ec9c-b9fb-4680-afd9-c40f2f0f8e17"
      },
      "source": [
        "len(test_labels)"
      ],
      "execution_count": 456,
      "outputs": [
        {
          "output_type": "execute_result",
          "data": {
            "text/plain": [
              "10000"
            ]
          },
          "metadata": {
            "tags": []
          },
          "execution_count": 456
        }
      ]
    },
    {
      "cell_type": "code",
      "metadata": {
        "id": "bdfkSPv6vGRz",
        "colab_type": "code",
        "colab": {}
      },
      "source": [
        "train_images = train_images.reshape((60000, 28, 28,1))"
      ],
      "execution_count": 457,
      "outputs": []
    },
    {
      "cell_type": "code",
      "metadata": {
        "id": "MmTiVXkFv1jM",
        "colab_type": "code",
        "colab": {}
      },
      "source": [
        "test_images = test_images.reshape((10000, 28, 28,1))"
      ],
      "execution_count": 458,
      "outputs": []
    },
    {
      "cell_type": "code",
      "metadata": {
        "id": "lj7mjWb4wrMd",
        "colab_type": "code",
        "colab": {
          "base_uri": "https://localhost:8080/",
          "height": 1000
        },
        "outputId": "35666d51-50cb-4bd4-9381-c9a8d6242a8a"
      },
      "source": [
        "train_images[0]"
      ],
      "execution_count": 459,
      "outputs": [
        {
          "output_type": "execute_result",
          "data": {
            "text/plain": [
              "array([[[  0],\n",
              "        [  0],\n",
              "        [  0],\n",
              "        [  0],\n",
              "        [  0],\n",
              "        [  0],\n",
              "        [  0],\n",
              "        [  0],\n",
              "        [  0],\n",
              "        [  0],\n",
              "        [  0],\n",
              "        [  0],\n",
              "        [  0],\n",
              "        [  0],\n",
              "        [  0],\n",
              "        [  0],\n",
              "        [  0],\n",
              "        [  0],\n",
              "        [  0],\n",
              "        [  0],\n",
              "        [  0],\n",
              "        [  0],\n",
              "        [  0],\n",
              "        [  0],\n",
              "        [  0],\n",
              "        [  0],\n",
              "        [  0],\n",
              "        [  0]],\n",
              "\n",
              "       [[  0],\n",
              "        [  0],\n",
              "        [  0],\n",
              "        [  0],\n",
              "        [  0],\n",
              "        [  0],\n",
              "        [  0],\n",
              "        [  0],\n",
              "        [  0],\n",
              "        [  0],\n",
              "        [  0],\n",
              "        [  0],\n",
              "        [  0],\n",
              "        [  0],\n",
              "        [  0],\n",
              "        [  0],\n",
              "        [  0],\n",
              "        [  0],\n",
              "        [  0],\n",
              "        [  0],\n",
              "        [  0],\n",
              "        [  0],\n",
              "        [  0],\n",
              "        [  0],\n",
              "        [  0],\n",
              "        [  0],\n",
              "        [  0],\n",
              "        [  0]],\n",
              "\n",
              "       [[  0],\n",
              "        [  0],\n",
              "        [  0],\n",
              "        [  0],\n",
              "        [  0],\n",
              "        [  0],\n",
              "        [  0],\n",
              "        [  0],\n",
              "        [  0],\n",
              "        [  0],\n",
              "        [  0],\n",
              "        [  0],\n",
              "        [  0],\n",
              "        [  0],\n",
              "        [  0],\n",
              "        [  0],\n",
              "        [  0],\n",
              "        [  0],\n",
              "        [  0],\n",
              "        [  0],\n",
              "        [  0],\n",
              "        [  0],\n",
              "        [  0],\n",
              "        [  0],\n",
              "        [  0],\n",
              "        [  0],\n",
              "        [  0],\n",
              "        [  0]],\n",
              "\n",
              "       [[  0],\n",
              "        [  0],\n",
              "        [  0],\n",
              "        [  0],\n",
              "        [  0],\n",
              "        [  0],\n",
              "        [  0],\n",
              "        [  0],\n",
              "        [  0],\n",
              "        [  0],\n",
              "        [  0],\n",
              "        [  0],\n",
              "        [  0],\n",
              "        [  0],\n",
              "        [  0],\n",
              "        [  0],\n",
              "        [  0],\n",
              "        [  0],\n",
              "        [  0],\n",
              "        [  0],\n",
              "        [  0],\n",
              "        [  0],\n",
              "        [  0],\n",
              "        [  0],\n",
              "        [  0],\n",
              "        [  0],\n",
              "        [  0],\n",
              "        [  0]],\n",
              "\n",
              "       [[  0],\n",
              "        [  0],\n",
              "        [  0],\n",
              "        [  0],\n",
              "        [  0],\n",
              "        [  0],\n",
              "        [  0],\n",
              "        [  0],\n",
              "        [  0],\n",
              "        [  0],\n",
              "        [  0],\n",
              "        [  0],\n",
              "        [  0],\n",
              "        [  0],\n",
              "        [  0],\n",
              "        [  0],\n",
              "        [  0],\n",
              "        [  0],\n",
              "        [  0],\n",
              "        [  0],\n",
              "        [  0],\n",
              "        [  0],\n",
              "        [  0],\n",
              "        [  0],\n",
              "        [  0],\n",
              "        [  0],\n",
              "        [  0],\n",
              "        [  0]],\n",
              "\n",
              "       [[  0],\n",
              "        [  0],\n",
              "        [  0],\n",
              "        [  0],\n",
              "        [  0],\n",
              "        [  0],\n",
              "        [  0],\n",
              "        [  0],\n",
              "        [  0],\n",
              "        [  0],\n",
              "        [  0],\n",
              "        [  0],\n",
              "        [  3],\n",
              "        [ 18],\n",
              "        [ 18],\n",
              "        [ 18],\n",
              "        [126],\n",
              "        [136],\n",
              "        [175],\n",
              "        [ 26],\n",
              "        [166],\n",
              "        [255],\n",
              "        [247],\n",
              "        [127],\n",
              "        [  0],\n",
              "        [  0],\n",
              "        [  0],\n",
              "        [  0]],\n",
              "\n",
              "       [[  0],\n",
              "        [  0],\n",
              "        [  0],\n",
              "        [  0],\n",
              "        [  0],\n",
              "        [  0],\n",
              "        [  0],\n",
              "        [  0],\n",
              "        [ 30],\n",
              "        [ 36],\n",
              "        [ 94],\n",
              "        [154],\n",
              "        [170],\n",
              "        [253],\n",
              "        [253],\n",
              "        [253],\n",
              "        [253],\n",
              "        [253],\n",
              "        [225],\n",
              "        [172],\n",
              "        [253],\n",
              "        [242],\n",
              "        [195],\n",
              "        [ 64],\n",
              "        [  0],\n",
              "        [  0],\n",
              "        [  0],\n",
              "        [  0]],\n",
              "\n",
              "       [[  0],\n",
              "        [  0],\n",
              "        [  0],\n",
              "        [  0],\n",
              "        [  0],\n",
              "        [  0],\n",
              "        [  0],\n",
              "        [ 49],\n",
              "        [238],\n",
              "        [253],\n",
              "        [253],\n",
              "        [253],\n",
              "        [253],\n",
              "        [253],\n",
              "        [253],\n",
              "        [253],\n",
              "        [253],\n",
              "        [251],\n",
              "        [ 93],\n",
              "        [ 82],\n",
              "        [ 82],\n",
              "        [ 56],\n",
              "        [ 39],\n",
              "        [  0],\n",
              "        [  0],\n",
              "        [  0],\n",
              "        [  0],\n",
              "        [  0]],\n",
              "\n",
              "       [[  0],\n",
              "        [  0],\n",
              "        [  0],\n",
              "        [  0],\n",
              "        [  0],\n",
              "        [  0],\n",
              "        [  0],\n",
              "        [ 18],\n",
              "        [219],\n",
              "        [253],\n",
              "        [253],\n",
              "        [253],\n",
              "        [253],\n",
              "        [253],\n",
              "        [198],\n",
              "        [182],\n",
              "        [247],\n",
              "        [241],\n",
              "        [  0],\n",
              "        [  0],\n",
              "        [  0],\n",
              "        [  0],\n",
              "        [  0],\n",
              "        [  0],\n",
              "        [  0],\n",
              "        [  0],\n",
              "        [  0],\n",
              "        [  0]],\n",
              "\n",
              "       [[  0],\n",
              "        [  0],\n",
              "        [  0],\n",
              "        [  0],\n",
              "        [  0],\n",
              "        [  0],\n",
              "        [  0],\n",
              "        [  0],\n",
              "        [ 80],\n",
              "        [156],\n",
              "        [107],\n",
              "        [253],\n",
              "        [253],\n",
              "        [205],\n",
              "        [ 11],\n",
              "        [  0],\n",
              "        [ 43],\n",
              "        [154],\n",
              "        [  0],\n",
              "        [  0],\n",
              "        [  0],\n",
              "        [  0],\n",
              "        [  0],\n",
              "        [  0],\n",
              "        [  0],\n",
              "        [  0],\n",
              "        [  0],\n",
              "        [  0]],\n",
              "\n",
              "       [[  0],\n",
              "        [  0],\n",
              "        [  0],\n",
              "        [  0],\n",
              "        [  0],\n",
              "        [  0],\n",
              "        [  0],\n",
              "        [  0],\n",
              "        [  0],\n",
              "        [ 14],\n",
              "        [  1],\n",
              "        [154],\n",
              "        [253],\n",
              "        [ 90],\n",
              "        [  0],\n",
              "        [  0],\n",
              "        [  0],\n",
              "        [  0],\n",
              "        [  0],\n",
              "        [  0],\n",
              "        [  0],\n",
              "        [  0],\n",
              "        [  0],\n",
              "        [  0],\n",
              "        [  0],\n",
              "        [  0],\n",
              "        [  0],\n",
              "        [  0]],\n",
              "\n",
              "       [[  0],\n",
              "        [  0],\n",
              "        [  0],\n",
              "        [  0],\n",
              "        [  0],\n",
              "        [  0],\n",
              "        [  0],\n",
              "        [  0],\n",
              "        [  0],\n",
              "        [  0],\n",
              "        [  0],\n",
              "        [139],\n",
              "        [253],\n",
              "        [190],\n",
              "        [  2],\n",
              "        [  0],\n",
              "        [  0],\n",
              "        [  0],\n",
              "        [  0],\n",
              "        [  0],\n",
              "        [  0],\n",
              "        [  0],\n",
              "        [  0],\n",
              "        [  0],\n",
              "        [  0],\n",
              "        [  0],\n",
              "        [  0],\n",
              "        [  0]],\n",
              "\n",
              "       [[  0],\n",
              "        [  0],\n",
              "        [  0],\n",
              "        [  0],\n",
              "        [  0],\n",
              "        [  0],\n",
              "        [  0],\n",
              "        [  0],\n",
              "        [  0],\n",
              "        [  0],\n",
              "        [  0],\n",
              "        [ 11],\n",
              "        [190],\n",
              "        [253],\n",
              "        [ 70],\n",
              "        [  0],\n",
              "        [  0],\n",
              "        [  0],\n",
              "        [  0],\n",
              "        [  0],\n",
              "        [  0],\n",
              "        [  0],\n",
              "        [  0],\n",
              "        [  0],\n",
              "        [  0],\n",
              "        [  0],\n",
              "        [  0],\n",
              "        [  0]],\n",
              "\n",
              "       [[  0],\n",
              "        [  0],\n",
              "        [  0],\n",
              "        [  0],\n",
              "        [  0],\n",
              "        [  0],\n",
              "        [  0],\n",
              "        [  0],\n",
              "        [  0],\n",
              "        [  0],\n",
              "        [  0],\n",
              "        [  0],\n",
              "        [ 35],\n",
              "        [241],\n",
              "        [225],\n",
              "        [160],\n",
              "        [108],\n",
              "        [  1],\n",
              "        [  0],\n",
              "        [  0],\n",
              "        [  0],\n",
              "        [  0],\n",
              "        [  0],\n",
              "        [  0],\n",
              "        [  0],\n",
              "        [  0],\n",
              "        [  0],\n",
              "        [  0]],\n",
              "\n",
              "       [[  0],\n",
              "        [  0],\n",
              "        [  0],\n",
              "        [  0],\n",
              "        [  0],\n",
              "        [  0],\n",
              "        [  0],\n",
              "        [  0],\n",
              "        [  0],\n",
              "        [  0],\n",
              "        [  0],\n",
              "        [  0],\n",
              "        [  0],\n",
              "        [ 81],\n",
              "        [240],\n",
              "        [253],\n",
              "        [253],\n",
              "        [119],\n",
              "        [ 25],\n",
              "        [  0],\n",
              "        [  0],\n",
              "        [  0],\n",
              "        [  0],\n",
              "        [  0],\n",
              "        [  0],\n",
              "        [  0],\n",
              "        [  0],\n",
              "        [  0]],\n",
              "\n",
              "       [[  0],\n",
              "        [  0],\n",
              "        [  0],\n",
              "        [  0],\n",
              "        [  0],\n",
              "        [  0],\n",
              "        [  0],\n",
              "        [  0],\n",
              "        [  0],\n",
              "        [  0],\n",
              "        [  0],\n",
              "        [  0],\n",
              "        [  0],\n",
              "        [  0],\n",
              "        [ 45],\n",
              "        [186],\n",
              "        [253],\n",
              "        [253],\n",
              "        [150],\n",
              "        [ 27],\n",
              "        [  0],\n",
              "        [  0],\n",
              "        [  0],\n",
              "        [  0],\n",
              "        [  0],\n",
              "        [  0],\n",
              "        [  0],\n",
              "        [  0]],\n",
              "\n",
              "       [[  0],\n",
              "        [  0],\n",
              "        [  0],\n",
              "        [  0],\n",
              "        [  0],\n",
              "        [  0],\n",
              "        [  0],\n",
              "        [  0],\n",
              "        [  0],\n",
              "        [  0],\n",
              "        [  0],\n",
              "        [  0],\n",
              "        [  0],\n",
              "        [  0],\n",
              "        [  0],\n",
              "        [ 16],\n",
              "        [ 93],\n",
              "        [252],\n",
              "        [253],\n",
              "        [187],\n",
              "        [  0],\n",
              "        [  0],\n",
              "        [  0],\n",
              "        [  0],\n",
              "        [  0],\n",
              "        [  0],\n",
              "        [  0],\n",
              "        [  0]],\n",
              "\n",
              "       [[  0],\n",
              "        [  0],\n",
              "        [  0],\n",
              "        [  0],\n",
              "        [  0],\n",
              "        [  0],\n",
              "        [  0],\n",
              "        [  0],\n",
              "        [  0],\n",
              "        [  0],\n",
              "        [  0],\n",
              "        [  0],\n",
              "        [  0],\n",
              "        [  0],\n",
              "        [  0],\n",
              "        [  0],\n",
              "        [  0],\n",
              "        [249],\n",
              "        [253],\n",
              "        [249],\n",
              "        [ 64],\n",
              "        [  0],\n",
              "        [  0],\n",
              "        [  0],\n",
              "        [  0],\n",
              "        [  0],\n",
              "        [  0],\n",
              "        [  0]],\n",
              "\n",
              "       [[  0],\n",
              "        [  0],\n",
              "        [  0],\n",
              "        [  0],\n",
              "        [  0],\n",
              "        [  0],\n",
              "        [  0],\n",
              "        [  0],\n",
              "        [  0],\n",
              "        [  0],\n",
              "        [  0],\n",
              "        [  0],\n",
              "        [  0],\n",
              "        [  0],\n",
              "        [ 46],\n",
              "        [130],\n",
              "        [183],\n",
              "        [253],\n",
              "        [253],\n",
              "        [207],\n",
              "        [  2],\n",
              "        [  0],\n",
              "        [  0],\n",
              "        [  0],\n",
              "        [  0],\n",
              "        [  0],\n",
              "        [  0],\n",
              "        [  0]],\n",
              "\n",
              "       [[  0],\n",
              "        [  0],\n",
              "        [  0],\n",
              "        [  0],\n",
              "        [  0],\n",
              "        [  0],\n",
              "        [  0],\n",
              "        [  0],\n",
              "        [  0],\n",
              "        [  0],\n",
              "        [  0],\n",
              "        [  0],\n",
              "        [ 39],\n",
              "        [148],\n",
              "        [229],\n",
              "        [253],\n",
              "        [253],\n",
              "        [253],\n",
              "        [250],\n",
              "        [182],\n",
              "        [  0],\n",
              "        [  0],\n",
              "        [  0],\n",
              "        [  0],\n",
              "        [  0],\n",
              "        [  0],\n",
              "        [  0],\n",
              "        [  0]],\n",
              "\n",
              "       [[  0],\n",
              "        [  0],\n",
              "        [  0],\n",
              "        [  0],\n",
              "        [  0],\n",
              "        [  0],\n",
              "        [  0],\n",
              "        [  0],\n",
              "        [  0],\n",
              "        [  0],\n",
              "        [ 24],\n",
              "        [114],\n",
              "        [221],\n",
              "        [253],\n",
              "        [253],\n",
              "        [253],\n",
              "        [253],\n",
              "        [201],\n",
              "        [ 78],\n",
              "        [  0],\n",
              "        [  0],\n",
              "        [  0],\n",
              "        [  0],\n",
              "        [  0],\n",
              "        [  0],\n",
              "        [  0],\n",
              "        [  0],\n",
              "        [  0]],\n",
              "\n",
              "       [[  0],\n",
              "        [  0],\n",
              "        [  0],\n",
              "        [  0],\n",
              "        [  0],\n",
              "        [  0],\n",
              "        [  0],\n",
              "        [  0],\n",
              "        [ 23],\n",
              "        [ 66],\n",
              "        [213],\n",
              "        [253],\n",
              "        [253],\n",
              "        [253],\n",
              "        [253],\n",
              "        [198],\n",
              "        [ 81],\n",
              "        [  2],\n",
              "        [  0],\n",
              "        [  0],\n",
              "        [  0],\n",
              "        [  0],\n",
              "        [  0],\n",
              "        [  0],\n",
              "        [  0],\n",
              "        [  0],\n",
              "        [  0],\n",
              "        [  0]],\n",
              "\n",
              "       [[  0],\n",
              "        [  0],\n",
              "        [  0],\n",
              "        [  0],\n",
              "        [  0],\n",
              "        [  0],\n",
              "        [ 18],\n",
              "        [171],\n",
              "        [219],\n",
              "        [253],\n",
              "        [253],\n",
              "        [253],\n",
              "        [253],\n",
              "        [195],\n",
              "        [ 80],\n",
              "        [  9],\n",
              "        [  0],\n",
              "        [  0],\n",
              "        [  0],\n",
              "        [  0],\n",
              "        [  0],\n",
              "        [  0],\n",
              "        [  0],\n",
              "        [  0],\n",
              "        [  0],\n",
              "        [  0],\n",
              "        [  0],\n",
              "        [  0]],\n",
              "\n",
              "       [[  0],\n",
              "        [  0],\n",
              "        [  0],\n",
              "        [  0],\n",
              "        [ 55],\n",
              "        [172],\n",
              "        [226],\n",
              "        [253],\n",
              "        [253],\n",
              "        [253],\n",
              "        [253],\n",
              "        [244],\n",
              "        [133],\n",
              "        [ 11],\n",
              "        [  0],\n",
              "        [  0],\n",
              "        [  0],\n",
              "        [  0],\n",
              "        [  0],\n",
              "        [  0],\n",
              "        [  0],\n",
              "        [  0],\n",
              "        [  0],\n",
              "        [  0],\n",
              "        [  0],\n",
              "        [  0],\n",
              "        [  0],\n",
              "        [  0]],\n",
              "\n",
              "       [[  0],\n",
              "        [  0],\n",
              "        [  0],\n",
              "        [  0],\n",
              "        [136],\n",
              "        [253],\n",
              "        [253],\n",
              "        [253],\n",
              "        [212],\n",
              "        [135],\n",
              "        [132],\n",
              "        [ 16],\n",
              "        [  0],\n",
              "        [  0],\n",
              "        [  0],\n",
              "        [  0],\n",
              "        [  0],\n",
              "        [  0],\n",
              "        [  0],\n",
              "        [  0],\n",
              "        [  0],\n",
              "        [  0],\n",
              "        [  0],\n",
              "        [  0],\n",
              "        [  0],\n",
              "        [  0],\n",
              "        [  0],\n",
              "        [  0]],\n",
              "\n",
              "       [[  0],\n",
              "        [  0],\n",
              "        [  0],\n",
              "        [  0],\n",
              "        [  0],\n",
              "        [  0],\n",
              "        [  0],\n",
              "        [  0],\n",
              "        [  0],\n",
              "        [  0],\n",
              "        [  0],\n",
              "        [  0],\n",
              "        [  0],\n",
              "        [  0],\n",
              "        [  0],\n",
              "        [  0],\n",
              "        [  0],\n",
              "        [  0],\n",
              "        [  0],\n",
              "        [  0],\n",
              "        [  0],\n",
              "        [  0],\n",
              "        [  0],\n",
              "        [  0],\n",
              "        [  0],\n",
              "        [  0],\n",
              "        [  0],\n",
              "        [  0]],\n",
              "\n",
              "       [[  0],\n",
              "        [  0],\n",
              "        [  0],\n",
              "        [  0],\n",
              "        [  0],\n",
              "        [  0],\n",
              "        [  0],\n",
              "        [  0],\n",
              "        [  0],\n",
              "        [  0],\n",
              "        [  0],\n",
              "        [  0],\n",
              "        [  0],\n",
              "        [  0],\n",
              "        [  0],\n",
              "        [  0],\n",
              "        [  0],\n",
              "        [  0],\n",
              "        [  0],\n",
              "        [  0],\n",
              "        [  0],\n",
              "        [  0],\n",
              "        [  0],\n",
              "        [  0],\n",
              "        [  0],\n",
              "        [  0],\n",
              "        [  0],\n",
              "        [  0]],\n",
              "\n",
              "       [[  0],\n",
              "        [  0],\n",
              "        [  0],\n",
              "        [  0],\n",
              "        [  0],\n",
              "        [  0],\n",
              "        [  0],\n",
              "        [  0],\n",
              "        [  0],\n",
              "        [  0],\n",
              "        [  0],\n",
              "        [  0],\n",
              "        [  0],\n",
              "        [  0],\n",
              "        [  0],\n",
              "        [  0],\n",
              "        [  0],\n",
              "        [  0],\n",
              "        [  0],\n",
              "        [  0],\n",
              "        [  0],\n",
              "        [  0],\n",
              "        [  0],\n",
              "        [  0],\n",
              "        [  0],\n",
              "        [  0],\n",
              "        [  0],\n",
              "        [  0]]], dtype=uint8)"
            ]
          },
          "metadata": {
            "tags": []
          },
          "execution_count": 459
        }
      ]
    },
    {
      "cell_type": "code",
      "metadata": {
        "id": "5Gw06Yosw2US",
        "colab_type": "code",
        "colab": {}
      },
      "source": [
        "train_images = train_images.astype('float')/255  #we have normalized the data and brought every value betwee 0-1 from 0-255"
      ],
      "execution_count": 460,
      "outputs": []
    },
    {
      "cell_type": "code",
      "metadata": {
        "id": "N2DuUlcoxuq4",
        "colab_type": "code",
        "colab": {}
      },
      "source": [
        "test_images = test_images.astype('float')/255"
      ],
      "execution_count": 461,
      "outputs": []
    },
    {
      "cell_type": "code",
      "metadata": {
        "id": "NkfTPU95x8ZB",
        "colab_type": "code",
        "colab": {}
      },
      "source": [
        "from keras.preprocessing import image"
      ],
      "execution_count": 462,
      "outputs": []
    },
    {
      "cell_type": "code",
      "metadata": {
        "id": "FWhKyhLFyJtf",
        "colab_type": "code",
        "colab": {}
      },
      "source": [
        "import matplotlib.pyplot as plt"
      ],
      "execution_count": 463,
      "outputs": []
    },
    {
      "cell_type": "code",
      "metadata": {
        "id": "ivzsqX1xyOQy",
        "colab_type": "code",
        "colab": {
          "base_uri": "https://localhost:8080/",
          "height": 282
        },
        "outputId": "8019386f-ba2b-4577-9276-3486be5adb9e"
      },
      "source": [
        "plt.imshow(image.array_to_img(train_images[77]), cmap = 'gray') #converting the pixel value to number and color and printing it"
      ],
      "execution_count": 464,
      "outputs": [
        {
          "output_type": "execute_result",
          "data": {
            "text/plain": [
              "<matplotlib.image.AxesImage at 0x7f22e125d160>"
            ]
          },
          "metadata": {
            "tags": []
          },
          "execution_count": 464
        },
        {
          "output_type": "display_data",
          "data": {
            "image/png": "[encoded data removed]",
            "text/plain": [
              "<Figure size 432x288 with 1 Axes>"
            ]
          },
          "metadata": {
            "tags": [],
            "needs_background": "light"
          }
        }
      ]
    },
    {
      "cell_type": "code",
      "metadata": {
        "id": "_nNr57KQyjFL",
        "colab_type": "code",
        "colab": {
          "base_uri": "https://localhost:8080/",
          "height": 34
        },
        "outputId": "d702b0e9-dd86-436c-c339-05f9fd9dcf15"
      },
      "source": [
        "train_labels[77]"
      ],
      "execution_count": 465,
      "outputs": [
        {
          "output_type": "execute_result",
          "data": {
            "text/plain": [
              "1"
            ]
          },
          "metadata": {
            "tags": []
          },
          "execution_count": 465
        }
      ]
    },
    {
      "cell_type": "code",
      "metadata": {
        "id": "FvmP3k6yyt1H",
        "colab_type": "code",
        "colab": {}
      },
      "source": [
        "from keras.utils import to_categorical"
      ],
      "execution_count": 466,
      "outputs": []
    },
    {
      "cell_type": "code",
      "metadata": {
        "id": "ZNEkES3Nzsqp",
        "colab_type": "code",
        "colab": {}
      },
      "source": [
        "train_labels_original = train_labels"
      ],
      "execution_count": 467,
      "outputs": []
    },
    {
      "cell_type": "code",
      "metadata": {
        "id": "b9F6M1lGzxVG",
        "colab_type": "code",
        "colab": {}
      },
      "source": [
        "train_labels = to_categorical(train_labels) #we converted the number to a vector format)"
      ],
      "execution_count": 468,
      "outputs": []
    },
    {
      "cell_type": "code",
      "metadata": {
        "id": "CwSf23DGz6FR",
        "colab_type": "code",
        "colab": {
          "base_uri": "https://localhost:8080/",
          "height": 34
        },
        "outputId": "5dde8817-6f83-410f-d8d7-863f2d739f33"
      },
      "source": [
        "train_labels_original[1]"
      ],
      "execution_count": 469,
      "outputs": [
        {
          "output_type": "execute_result",
          "data": {
            "text/plain": [
              "0"
            ]
          },
          "metadata": {
            "tags": []
          },
          "execution_count": 469
        }
      ]
    },
    {
      "cell_type": "code",
      "metadata": {
        "id": "8JkZ6hP6z_Xy",
        "colab_type": "code",
        "colab": {
          "base_uri": "https://localhost:8080/",
          "height": 34
        },
        "outputId": "527d474c-1aac-48a3-a230-502ce0b0de12"
      },
      "source": [
        "train_labels[1]"
      ],
      "execution_count": 470,
      "outputs": [
        {
          "output_type": "execute_result",
          "data": {
            "text/plain": [
              "array([1., 0., 0., 0., 0., 0., 0., 0., 0., 0.], dtype=float32)"
            ]
          },
          "metadata": {
            "tags": []
          },
          "execution_count": 470
        }
      ]
    },
    {
      "cell_type": "code",
      "metadata": {
        "id": "dWbACCMk_jsa",
        "colab_type": "code",
        "colab": {}
      },
      "source": [
        "test_labels_original = test_labels"
      ],
      "execution_count": 471,
      "outputs": []
    },
    {
      "cell_type": "code",
      "metadata": {
        "id": "TTulR3Da0CZA",
        "colab_type": "code",
        "colab": {}
      },
      "source": [
        "test_labels = to_categorical(test_labels)"
      ],
      "execution_count": 472,
      "outputs": []
    },
    {
      "cell_type": "code",
      "metadata": {
        "id": "ByOGk8kX0los",
        "colab_type": "code",
        "colab": {}
      },
      "source": [
        "from keras import layers,models"
      ],
      "execution_count": 473,
      "outputs": []
    },
    {
      "cell_type": "code",
      "metadata": {
        "id": "Otz8NcQX05oP",
        "colab_type": "code",
        "colab": {}
      },
      "source": [
        "model = models.Sequential()\n"
      ],
      "execution_count": 474,
      "outputs": []
    },
    {
      "cell_type": "code",
      "metadata": {
        "id": "bD7lTI1b0_SG",
        "colab_type": "code",
        "colab": {}
      },
      "source": [
        "model.add(layers.Conv2D(32, (3, 3), activation='relu', input_shape = (28, 28, 1)))"
      ],
      "execution_count": 475,
      "outputs": []
    },
    {
      "cell_type": "code",
      "metadata": {
        "id": "7MtkzsLQ1jeO",
        "colab_type": "code",
        "colab": {
          "base_uri": "https://localhost:8080/",
          "height": 187
        },
        "outputId": "6346b799-852f-437d-8ee2-1562a6607b18"
      },
      "source": [
        "model.summary()\n"
      ],
      "execution_count": 476,
      "outputs": [
        {
          "output_type": "stream",
          "text": [
            "Model: \"sequential_8\"\n",
            "_________________________________________________________________\n",
            "Layer (type)                 Output Shape              Param #   \n",
            "=================================================================\n",
            "conv2d_22 (Conv2D)           (None, 26, 26, 32)        320       \n",
            "=================================================================\n",
            "Total params: 320\n",
            "Trainable params: 320\n",
            "Non-trainable params: 0\n",
            "_________________________________________________________________\n"
          ],
          "name": "stdout"
        }
      ]
    },
    {
      "cell_type": "code",
      "metadata": {
        "id": "mqPgsphk3GF9",
        "colab_type": "code",
        "colab": {}
      },
      "source": [
        "model.add(layers.MaxPool2D((2,2)))"
      ],
      "execution_count": 477,
      "outputs": []
    },
    {
      "cell_type": "code",
      "metadata": {
        "id": "Tux4xtY53p9x",
        "colab_type": "code",
        "colab": {
          "base_uri": "https://localhost:8080/",
          "height": 221
        },
        "outputId": "9aa51987-2689-4fb6-bf8d-249601c67c42"
      },
      "source": [
        "model.summary()"
      ],
      "execution_count": 478,
      "outputs": [
        {
          "output_type": "stream",
          "text": [
            "Model: \"sequential_8\"\n",
            "_________________________________________________________________\n",
            "Layer (type)                 Output Shape              Param #   \n",
            "=================================================================\n",
            "conv2d_22 (Conv2D)           (None, 26, 26, 32)        320       \n",
            "_________________________________________________________________\n",
            "max_pooling2d_15 (MaxPooling (None, 13, 13, 32)        0         \n",
            "=================================================================\n",
            "Total params: 320\n",
            "Trainable params: 320\n",
            "Non-trainable params: 0\n",
            "_________________________________________________________________\n"
          ],
          "name": "stdout"
        }
      ]
    },
    {
      "cell_type": "code",
      "metadata": {
        "id": "39YJkNkT3_zq",
        "colab_type": "code",
        "colab": {}
      },
      "source": [
        "model.add(layers.Conv2D(64, (3, 3), activation='relu'))"
      ],
      "execution_count": 479,
      "outputs": []
    },
    {
      "cell_type": "code",
      "metadata": {
        "id": "wbPBxK7C45Cz",
        "colab_type": "code",
        "colab": {
          "base_uri": "https://localhost:8080/",
          "height": 255
        },
        "outputId": "628aac6e-9c10-40fc-f7d1-06c036aa7529"
      },
      "source": [
        "model.summary()"
      ],
      "execution_count": 480,
      "outputs": [
        {
          "output_type": "stream",
          "text": [
            "Model: \"sequential_8\"\n",
            "_________________________________________________________________\n",
            "Layer (type)                 Output Shape              Param #   \n",
            "=================================================================\n",
            "conv2d_22 (Conv2D)           (None, 26, 26, 32)        320       \n",
            "_________________________________________________________________\n",
            "max_pooling2d_15 (MaxPooling (None, 13, 13, 32)        0         \n",
            "_________________________________________________________________\n",
            "conv2d_23 (Conv2D)           (None, 11, 11, 64)        18496     \n",
            "=================================================================\n",
            "Total params: 18,816\n",
            "Trainable params: 18,816\n",
            "Non-trainable params: 0\n",
            "_________________________________________________________________\n"
          ],
          "name": "stdout"
        }
      ]
    },
    {
      "cell_type": "code",
      "metadata": {
        "id": "4JAgbKS646vJ",
        "colab_type": "code",
        "colab": {}
      },
      "source": [
        "model.add(layers.MaxPool2D((2,2)))"
      ],
      "execution_count": 481,
      "outputs": []
    },
    {
      "cell_type": "code",
      "metadata": {
        "id": "f8Fi-KDH5Ilg",
        "colab_type": "code",
        "colab": {
          "base_uri": "https://localhost:8080/",
          "height": 289
        },
        "outputId": "0409d686-8e2b-4aa6-9a47-f4a3d93b3cda"
      },
      "source": [
        "model.summary()"
      ],
      "execution_count": 482,
      "outputs": [
        {
          "output_type": "stream",
          "text": [
            "Model: \"sequential_8\"\n",
            "_________________________________________________________________\n",
            "Layer (type)                 Output Shape              Param #   \n",
            "=================================================================\n",
            "conv2d_22 (Conv2D)           (None, 26, 26, 32)        320       \n",
            "_________________________________________________________________\n",
            "max_pooling2d_15 (MaxPooling (None, 13, 13, 32)        0         \n",
            "_________________________________________________________________\n",
            "conv2d_23 (Conv2D)           (None, 11, 11, 64)        18496     \n",
            "_________________________________________________________________\n",
            "max_pooling2d_16 (MaxPooling (None, 5, 5, 64)          0         \n",
            "=================================================================\n",
            "Total params: 18,816\n",
            "Trainable params: 18,816\n",
            "Non-trainable params: 0\n",
            "_________________________________________________________________\n"
          ],
          "name": "stdout"
        }
      ]
    },
    {
      "cell_type": "code",
      "metadata": {
        "id": "5aJWhThh5Py3",
        "colab_type": "code",
        "colab": {}
      },
      "source": [
        "model.add(layers.Conv2D(64, (3, 3), activation='relu'))"
      ],
      "execution_count": 483,
      "outputs": []
    },
    {
      "cell_type": "code",
      "metadata": {
        "id": "RQ_fDfc25VpB",
        "colab_type": "code",
        "colab": {}
      },
      "source": [
        "model.add(layers.Flatten())"
      ],
      "execution_count": 484,
      "outputs": []
    },
    {
      "cell_type": "code",
      "metadata": {
        "id": "w8oAbxxG5Sw8",
        "colab_type": "code",
        "colab": {}
      },
      "source": [
        "model.add(layers.Dense(64, activation = 'relu'))"
      ],
      "execution_count": 485,
      "outputs": []
    },
    {
      "cell_type": "code",
      "metadata": {
        "id": "lJ5lM0a055U3",
        "colab_type": "code",
        "colab": {
          "base_uri": "https://localhost:8080/",
          "height": 391
        },
        "outputId": "cc46da9d-5e5f-40a3-ed69-3e4845ec2d79"
      },
      "source": [
        "model.summary()"
      ],
      "execution_count": 486,
      "outputs": [
        {
          "output_type": "stream",
          "text": [
            "Model: \"sequential_8\"\n",
            "_________________________________________________________________\n",
            "Layer (type)                 Output Shape              Param #   \n",
            "=================================================================\n",
            "conv2d_22 (Conv2D)           (None, 26, 26, 32)        320       \n",
            "_________________________________________________________________\n",
            "max_pooling2d_15 (MaxPooling (None, 13, 13, 32)        0         \n",
            "_________________________________________________________________\n",
            "conv2d_23 (Conv2D)           (None, 11, 11, 64)        18496     \n",
            "_________________________________________________________________\n",
            "max_pooling2d_16 (MaxPooling (None, 5, 5, 64)          0         \n",
            "_________________________________________________________________\n",
            "conv2d_24 (Conv2D)           (None, 3, 3, 64)          36928     \n",
            "_________________________________________________________________\n",
            "flatten_8 (Flatten)          (None, 576)               0         \n",
            "_________________________________________________________________\n",
            "dense_15 (Dense)             (None, 64)                36928     \n",
            "=================================================================\n",
            "Total params: 92,672\n",
            "Trainable params: 92,672\n",
            "Non-trainable params: 0\n",
            "_________________________________________________________________\n"
          ],
          "name": "stdout"
        }
      ]
    },
    {
      "cell_type": "code",
      "metadata": {
        "id": "v2xhHRqR6Dbe",
        "colab_type": "code",
        "colab": {}
      },
      "source": [
        "model.add(layers.Dense(10, activation = 'softmax'))"
      ],
      "execution_count": 487,
      "outputs": []
    },
    {
      "cell_type": "code",
      "metadata": {
        "id": "GfrJDBOk6WnL",
        "colab_type": "code",
        "colab": {
          "base_uri": "https://localhost:8080/",
          "height": 425
        },
        "outputId": "cd20c503-10af-42a7-c055-c14fe2c52885"
      },
      "source": [
        "model.summary()"
      ],
      "execution_count": 488,
      "outputs": [
        {
          "output_type": "stream",
          "text": [
            "Model: \"sequential_8\"\n",
            "_________________________________________________________________\n",
            "Layer (type)                 Output Shape              Param #   \n",
            "=================================================================\n",
            "conv2d_22 (Conv2D)           (None, 26, 26, 32)        320       \n",
            "_________________________________________________________________\n",
            "max_pooling2d_15 (MaxPooling (None, 13, 13, 32)        0         \n",
            "_________________________________________________________________\n",
            "conv2d_23 (Conv2D)           (None, 11, 11, 64)        18496     \n",
            "_________________________________________________________________\n",
            "max_pooling2d_16 (MaxPooling (None, 5, 5, 64)          0         \n",
            "_________________________________________________________________\n",
            "conv2d_24 (Conv2D)           (None, 3, 3, 64)          36928     \n",
            "_________________________________________________________________\n",
            "flatten_8 (Flatten)          (None, 576)               0         \n",
            "_________________________________________________________________\n",
            "dense_15 (Dense)             (None, 64)                36928     \n",
            "_________________________________________________________________\n",
            "dense_16 (Dense)             (None, 10)                650       \n",
            "=================================================================\n",
            "Total params: 93,322\n",
            "Trainable params: 93,322\n",
            "Non-trainable params: 0\n",
            "_________________________________________________________________\n"
          ],
          "name": "stdout"
        }
      ]
    },
    {
      "cell_type": "code",
      "metadata": {
        "id": "nhU_TtPM6buT",
        "colab_type": "code",
        "colab": {}
      },
      "source": [
        "model.compile(loss = 'categorical_crossentropy', optimizer = 'rmsprop', metrics = ['accuracy'])"
      ],
      "execution_count": 489,
      "outputs": []
    },
    {
      "cell_type": "code",
      "metadata": {
        "id": "mbCVF-Cp7gwZ",
        "colab_type": "code",
        "colab": {
          "base_uri": "https://localhost:8080/",
          "height": 428
        },
        "outputId": "7dbee8c4-6aba-46b9-99d2-171ce0d858b6"
      },
      "source": [
        "model.fit(train_images, train_labels, epochs = 11, batch_size = 64 ) # epochs is used to decide how many time we have to train our model with same data"
      ],
      "execution_count": 490,
      "outputs": [
        {
          "output_type": "stream",
          "text": [
            "Epoch 1/11\n",
            "60000/60000 [==============================] - 9s 143us/step - loss: 0.1727 - accuracy: 0.9456\n",
            "Epoch 2/11\n",
            "60000/60000 [==============================] - 8s 140us/step - loss: 0.0475 - accuracy: 0.9855\n",
            "Epoch 3/11\n",
            "60000/60000 [==============================] - 8s 140us/step - loss: 0.0329 - accuracy: 0.9897\n",
            "Epoch 4/11\n",
            "60000/60000 [==============================] - 8s 141us/step - loss: 0.0247 - accuracy: 0.9921\n",
            "Epoch 5/11\n",
            "60000/60000 [==============================] - 8s 141us/step - loss: 0.0195 - accuracy: 0.9943\n",
            "Epoch 6/11\n",
            "60000/60000 [==============================] - 8s 140us/step - loss: 0.0160 - accuracy: 0.9950\n",
            "Epoch 7/11\n",
            "60000/60000 [==============================] - 8s 141us/step - loss: 0.0129 - accuracy: 0.9961\n",
            "Epoch 8/11\n",
            "60000/60000 [==============================] - 8s 141us/step - loss: 0.0114 - accuracy: 0.9965\n",
            "Epoch 9/11\n",
            "60000/60000 [==============================] - 8s 142us/step - loss: 0.0086 - accuracy: 0.9975\n",
            "Epoch 10/11\n",
            "60000/60000 [==============================] - 8s 141us/step - loss: 0.0077 - accuracy: 0.9977\n",
            "Epoch 11/11\n",
            "60000/60000 [==============================] - 8s 141us/step - loss: 0.0068 - accuracy: 0.9979\n"
          ],
          "name": "stdout"
        },
        {
          "output_type": "execute_result",
          "data": {
            "text/plain": [
              "<keras.callbacks.callbacks.History at 0x7f22e1225cc0>"
            ]
          },
          "metadata": {
            "tags": []
          },
          "execution_count": 490
        }
      ]
    },
    {
      "cell_type": "code",
      "metadata": {
        "id": "5NquvE4w7ujK",
        "colab_type": "code",
        "colab": {
          "base_uri": "https://localhost:8080/",
          "height": 34
        },
        "outputId": "9dd4434d-f3b5-441f-fe07-bdd3fc32152d"
      },
      "source": [
        "test_loss, test_accuraccy = model.evaluate(test_images, test_labels)"
      ],
      "execution_count": 491,
      "outputs": [
        {
          "output_type": "stream",
          "text": [
            "10000/10000 [==============================] - 1s 108us/step\n"
          ],
          "name": "stdout"
        }
      ]
    },
    {
      "cell_type": "code",
      "metadata": {
        "id": "QhciMSCx-HQq",
        "colab_type": "code",
        "colab": {
          "base_uri": "https://localhost:8080/",
          "height": 34
        },
        "outputId": "48128178-53c7-4f6e-d138-03a0aacb5bd5"
      },
      "source": [
        "test_accuraccy"
      ],
      "execution_count": 492,
      "outputs": [
        {
          "output_type": "execute_result",
          "data": {
            "text/plain": [
              "0.9932000041007996"
            ]
          },
          "metadata": {
            "tags": []
          },
          "execution_count": 492
        }
      ]
    },
    {
      "cell_type": "code",
      "metadata": {
        "id": "H2P5st2P-nwT",
        "colab_type": "code",
        "colab": {
          "base_uri": "https://localhost:8080/",
          "height": 34
        },
        "outputId": "b44cda47-0c8a-42b1-9a28-7b976e055b54"
      },
      "source": [
        "test_loss"
      ],
      "execution_count": 493,
      "outputs": [
        {
          "output_type": "execute_result",
          "data": {
            "text/plain": [
              "0.029798984767671958"
            ]
          },
          "metadata": {
            "tags": []
          },
          "execution_count": 493
        }
      ]
    },
    {
      "cell_type": "code",
      "metadata": {
        "id": "o3bXRRBD-KID",
        "colab_type": "code",
        "colab": {}
      },
      "source": [
        "predictions = model.predict_classes(test_images)"
      ],
      "execution_count": 494,
      "outputs": []
    },
    {
      "cell_type": "code",
      "metadata": {
        "id": "YqNLAJ-xDQv9",
        "colab_type": "code",
        "colab": {
          "base_uri": "https://localhost:8080/",
          "height": 282
        },
        "outputId": "6f9ac177-e48e-4e5f-9d0c-a7817e4ce782"
      },
      "source": [
        "plt.imshow(image.array_to_img(test_images[0]),cmap='gray')"
      ],
      "execution_count": 495,
      "outputs": [
        {
          "output_type": "execute_result",
          "data": {
            "text/plain": [
              "<matplotlib.image.AxesImage at 0x7f22e1027400>"
            ]
          },
          "metadata": {
            "tags": []
          },
          "execution_count": 495
        },
        {
          "output_type": "display_data",
          "data": {
            "image/png": "[encoded data removed]",
            "text/plain": [
              "<Figure size 432x288 with 1 Axes>"
            ]
          },
          "metadata": {
            "tags": [],
            "needs_background": "light"
          }
        }
      ]
    },
    {
      "cell_type": "code",
      "metadata": {
        "id": "P-M4q13w_Nd3",
        "colab_type": "code",
        "colab": {
          "base_uri": "https://localhost:8080/",
          "height": 34
        },
        "outputId": "0540f771-8409-4965-a166-5fca82ddf7be"
      },
      "source": [
        "test_labels_original[0]"
      ],
      "execution_count": 496,
      "outputs": [
        {
          "output_type": "execute_result",
          "data": {
            "text/plain": [
              "7"
            ]
          },
          "metadata": {
            "tags": []
          },
          "execution_count": 496
        }
      ]
    },
    {
      "cell_type": "code",
      "metadata": {
        "id": "HPFxYvSs_ZRN",
        "colab_type": "code",
        "colab": {
          "base_uri": "https://localhost:8080/",
          "height": 34
        },
        "outputId": "fcc9cfb0-0d79-4148-bb2c-4a5ab32010a3"
      },
      "source": [
        "predictions[0]"
      ],
      "execution_count": 497,
      "outputs": [
        {
          "output_type": "execute_result",
          "data": {
            "text/plain": [
              "7"
            ]
          },
          "metadata": {
            "tags": []
          },
          "execution_count": 497
        }
      ]
    },
    {
      "cell_type": "code",
      "metadata": {
        "id": "hQrY756BBelW",
        "colab_type": "code",
        "colab": {
          "base_uri": "https://localhost:8080/",
          "height": 34
        },
        "outputId": "dc120afc-eeee-4d8d-db31-297aa68e02b6"
      },
      "source": [
        "test_images.shape"
      ],
      "execution_count": 498,
      "outputs": [
        {
          "output_type": "execute_result",
          "data": {
            "text/plain": [
              "(10000, 28, 28, 1)"
            ]
          },
          "metadata": {
            "tags": []
          },
          "execution_count": 498
        }
      ]
    },
    {
      "cell_type": "code",
      "metadata": {
        "id": "Y-n7X8daCTr4",
        "colab_type": "code",
        "colab": {
          "base_uri": "https://localhost:8080/",
          "height": 34
        },
        "outputId": "64d8edc2-de27-4f87-fe8a-f010c1394c25"
      },
      "source": [
        "test_images[0].shape"
      ],
      "execution_count": 499,
      "outputs": [
        {
          "output_type": "execute_result",
          "data": {
            "text/plain": [
              "(28, 28, 1)"
            ]
          },
          "metadata": {
            "tags": []
          },
          "execution_count": 499
        }
      ]
    },
    {
      "cell_type": "code",
      "metadata": {
        "id": "OPgX2KheCanS",
        "colab_type": "code",
        "colab": {
          "base_uri": "https://localhost:8080/",
          "height": 71
        },
        "outputId": "46b932f5-dd78-4c28-998d-8edbedf46d37"
      },
      "source": [
        "img = image.load_img(path=\"/content/zero.PNG\", grayscale=True, target_size=(28,28,1))"
      ],
      "execution_count": 500,
      "outputs": [
        {
          "output_type": "stream",
          "text": [
            "/usr/local/lib/python3.6/dist-packages/keras_preprocessing/image/utils.py:107: UserWarning: grayscale is deprecated. Please use color_mode = \"grayscale\"\n",
            "  warnings.warn('grayscale is deprecated. Please use '\n"
          ],
          "name": "stderr"
        }
      ]
    },
    {
      "cell_type": "code",
      "metadata": {
        "id": "jdV7YEkQCgBU",
        "colab_type": "code",
        "colab": {}
      },
      "source": [
        "img = image.img_to_array(img)"
      ],
      "execution_count": 501,
      "outputs": []
    },
    {
      "cell_type": "code",
      "metadata": {
        "id": "Zkqg5-hMD0Fq",
        "colab_type": "code",
        "colab": {}
      },
      "source": [
        "test_img = img.reshape((1,28,28,1))"
      ],
      "execution_count": 502,
      "outputs": []
    },
    {
      "cell_type": "code",
      "metadata": {
        "id": "y1xIsuW0D1lh",
        "colab_type": "code",
        "colab": {}
      },
      "source": [
        "test_img = test_img.astype('float')/255"
      ],
      "execution_count": 503,
      "outputs": []
    },
    {
      "cell_type": "code",
      "metadata": {
        "id": "qj1oRstXELvD",
        "colab_type": "code",
        "colab": {
          "base_uri": "https://localhost:8080/",
          "height": 1000
        },
        "outputId": "c484607f-f0df-4f58-8a38-069cbfc47bf0"
      },
      "source": [
        "test_img"
      ],
      "execution_count": 504,
      "outputs": [
        {
          "output_type": "execute_result",
          "data": {
            "text/plain": [
              "array([[[[1.        ],\n",
              "         [1.        ],\n",
              "         [1.        ],\n",
              "         [1.        ],\n",
              "         [1.        ],\n",
              "         [1.        ],\n",
              "         [1.        ],\n",
              "         [1.        ],\n",
              "         [1.        ],\n",
              "         [1.        ],\n",
              "         [1.        ],\n",
              "         [1.        ],\n",
              "         [1.        ],\n",
              "         [1.        ],\n",
              "         [1.        ],\n",
              "         [1.        ],\n",
              "         [1.        ],\n",
              "         [1.        ],\n",
              "         [1.        ],\n",
              "         [1.        ],\n",
              "         [1.        ],\n",
              "         [1.        ],\n",
              "         [1.        ],\n",
              "         [1.        ],\n",
              "         [1.        ],\n",
              "         [1.        ],\n",
              "         [1.        ],\n",
              "         [1.        ]],\n",
              "\n",
              "        [[1.        ],\n",
              "         [1.        ],\n",
              "         [1.        ],\n",
              "         [1.        ],\n",
              "         [1.        ],\n",
              "         [1.        ],\n",
              "         [1.        ],\n",
              "         [1.        ],\n",
              "         [1.        ],\n",
              "         [1.        ],\n",
              "         [1.        ],\n",
              "         [1.        ],\n",
              "         [1.        ],\n",
              "         [1.        ],\n",
              "         [1.        ],\n",
              "         [1.        ],\n",
              "         [1.        ],\n",
              "         [1.        ],\n",
              "         [1.        ],\n",
              "         [1.        ],\n",
              "         [1.        ],\n",
              "         [1.        ],\n",
              "         [1.        ],\n",
              "         [1.        ],\n",
              "         [1.        ],\n",
              "         [1.        ],\n",
              "         [1.        ],\n",
              "         [1.        ]],\n",
              "\n",
              "        [[1.        ],\n",
              "         [1.        ],\n",
              "         [1.        ],\n",
              "         [1.        ],\n",
              "         [1.        ],\n",
              "         [1.        ],\n",
              "         [1.        ],\n",
              "         [1.        ],\n",
              "         [1.        ],\n",
              "         [1.        ],\n",
              "         [1.        ],\n",
              "         [1.        ],\n",
              "         [1.        ],\n",
              "         [1.        ],\n",
              "         [1.        ],\n",
              "         [1.        ],\n",
              "         [1.        ],\n",
              "         [1.        ],\n",
              "         [1.        ],\n",
              "         [1.        ],\n",
              "         [1.        ],\n",
              "         [1.        ],\n",
              "         [1.        ],\n",
              "         [1.        ],\n",
              "         [1.        ],\n",
              "         [1.        ],\n",
              "         [1.        ],\n",
              "         [1.        ]],\n",
              "\n",
              "        [[1.        ],\n",
              "         [1.        ],\n",
              "         [1.        ],\n",
              "         [1.        ],\n",
              "         [1.        ],\n",
              "         [1.        ],\n",
              "         [1.        ],\n",
              "         [1.        ],\n",
              "         [1.        ],\n",
              "         [1.        ],\n",
              "         [1.        ],\n",
              "         [1.        ],\n",
              "         [1.        ],\n",
              "         [1.        ],\n",
              "         [1.        ],\n",
              "         [1.        ],\n",
              "         [1.        ],\n",
              "         [1.        ],\n",
              "         [1.        ],\n",
              "         [1.        ],\n",
              "         [1.        ],\n",
              "         [1.        ],\n",
              "         [1.        ],\n",
              "         [1.        ],\n",
              "         [1.        ],\n",
              "         [1.        ],\n",
              "         [1.        ],\n",
              "         [1.        ]],\n",
              "\n",
              "        [[1.        ],\n",
              "         [1.        ],\n",
              "         [1.        ],\n",
              "         [1.        ],\n",
              "         [1.        ],\n",
              "         [1.        ],\n",
              "         [1.        ],\n",
              "         [1.        ],\n",
              "         [1.        ],\n",
              "         [1.        ],\n",
              "         [1.        ],\n",
              "         [1.        ],\n",
              "         [1.        ],\n",
              "         [1.        ],\n",
              "         [1.        ],\n",
              "         [1.        ],\n",
              "         [1.        ],\n",
              "         [1.        ],\n",
              "         [1.        ],\n",
              "         [1.        ],\n",
              "         [1.        ],\n",
              "         [1.        ],\n",
              "         [1.        ],\n",
              "         [1.        ],\n",
              "         [1.        ],\n",
              "         [1.        ],\n",
              "         [1.        ],\n",
              "         [1.        ]],\n",
              "\n",
              "        [[1.        ],\n",
              "         [1.        ],\n",
              "         [1.        ],\n",
              "         [1.        ],\n",
              "         [1.        ],\n",
              "         [1.        ],\n",
              "         [1.        ],\n",
              "         [1.        ],\n",
              "         [1.        ],\n",
              "         [1.        ],\n",
              "         [1.        ],\n",
              "         [1.        ],\n",
              "         [1.        ],\n",
              "         [1.        ],\n",
              "         [1.        ],\n",
              "         [1.        ],\n",
              "         [1.        ],\n",
              "         [1.        ],\n",
              "         [1.        ],\n",
              "         [1.        ],\n",
              "         [1.        ],\n",
              "         [1.        ],\n",
              "         [1.        ],\n",
              "         [1.        ],\n",
              "         [1.        ],\n",
              "         [1.        ],\n",
              "         [1.        ],\n",
              "         [1.        ]],\n",
              "\n",
              "        [[1.        ],\n",
              "         [1.        ],\n",
              "         [1.        ],\n",
              "         [1.        ],\n",
              "         [1.        ],\n",
              "         [1.        ],\n",
              "         [1.        ],\n",
              "         [1.        ],\n",
              "         [1.        ],\n",
              "         [1.        ],\n",
              "         [1.        ],\n",
              "         [1.        ],\n",
              "         [1.        ],\n",
              "         [0.        ],\n",
              "         [1.        ],\n",
              "         [0.        ],\n",
              "         [0.        ],\n",
              "         [0.1254902 ],\n",
              "         [1.        ],\n",
              "         [1.        ],\n",
              "         [1.        ],\n",
              "         [1.        ],\n",
              "         [1.        ],\n",
              "         [1.        ],\n",
              "         [1.        ],\n",
              "         [1.        ],\n",
              "         [1.        ],\n",
              "         [1.        ]],\n",
              "\n",
              "        [[1.        ],\n",
              "         [1.        ],\n",
              "         [1.        ],\n",
              "         [1.        ],\n",
              "         [1.        ],\n",
              "         [1.        ],\n",
              "         [1.        ],\n",
              "         [1.        ],\n",
              "         [1.        ],\n",
              "         [1.        ],\n",
              "         [0.        ],\n",
              "         [1.        ],\n",
              "         [1.        ],\n",
              "         [1.        ],\n",
              "         [1.        ],\n",
              "         [1.        ],\n",
              "         [1.        ],\n",
              "         [1.        ],\n",
              "         [1.        ],\n",
              "         [0.96862745],\n",
              "         [1.        ],\n",
              "         [1.        ],\n",
              "         [1.        ],\n",
              "         [1.        ],\n",
              "         [1.        ],\n",
              "         [1.        ],\n",
              "         [1.        ],\n",
              "         [1.        ]],\n",
              "\n",
              "        [[1.        ],\n",
              "         [1.        ],\n",
              "         [1.        ],\n",
              "         [1.        ],\n",
              "         [1.        ],\n",
              "         [1.        ],\n",
              "         [1.        ],\n",
              "         [1.        ],\n",
              "         [0.        ],\n",
              "         [1.        ],\n",
              "         [1.        ],\n",
              "         [1.        ],\n",
              "         [1.        ],\n",
              "         [1.        ],\n",
              "         [1.        ],\n",
              "         [1.        ],\n",
              "         [1.        ],\n",
              "         [1.        ],\n",
              "         [1.        ],\n",
              "         [1.        ],\n",
              "         [1.        ],\n",
              "         [0.52941176],\n",
              "         [1.        ],\n",
              "         [1.        ],\n",
              "         [1.        ],\n",
              "         [1.        ],\n",
              "         [1.        ],\n",
              "         [1.        ]],\n",
              "\n",
              "        [[1.        ],\n",
              "         [1.        ],\n",
              "         [1.        ],\n",
              "         [1.        ],\n",
              "         [1.        ],\n",
              "         [1.        ],\n",
              "         [1.        ],\n",
              "         [0.        ],\n",
              "         [1.        ],\n",
              "         [1.        ],\n",
              "         [1.        ],\n",
              "         [1.        ],\n",
              "         [1.        ],\n",
              "         [1.        ],\n",
              "         [1.        ],\n",
              "         [1.        ],\n",
              "         [1.        ],\n",
              "         [1.        ],\n",
              "         [1.        ],\n",
              "         [1.        ],\n",
              "         [1.        ],\n",
              "         [1.        ],\n",
              "         [1.        ],\n",
              "         [0.        ],\n",
              "         [1.        ],\n",
              "         [1.        ],\n",
              "         [1.        ],\n",
              "         [1.        ]],\n",
              "\n",
              "        [[1.        ],\n",
              "         [1.        ],\n",
              "         [1.        ],\n",
              "         [1.        ],\n",
              "         [1.        ],\n",
              "         [1.        ],\n",
              "         [1.        ],\n",
              "         [1.        ],\n",
              "         [1.        ],\n",
              "         [1.        ],\n",
              "         [1.        ],\n",
              "         [1.        ],\n",
              "         [1.        ],\n",
              "         [1.        ],\n",
              "         [1.        ],\n",
              "         [1.        ],\n",
              "         [1.        ],\n",
              "         [1.        ],\n",
              "         [1.        ],\n",
              "         [1.        ],\n",
              "         [1.        ],\n",
              "         [1.        ],\n",
              "         [1.        ],\n",
              "         [1.        ],\n",
              "         [1.        ],\n",
              "         [0.59215686],\n",
              "         [1.        ],\n",
              "         [1.        ]],\n",
              "\n",
              "        [[1.        ],\n",
              "         [1.        ],\n",
              "         [1.        ],\n",
              "         [1.        ],\n",
              "         [1.        ],\n",
              "         [1.        ],\n",
              "         [0.96862745],\n",
              "         [1.        ],\n",
              "         [1.        ],\n",
              "         [1.        ],\n",
              "         [1.        ],\n",
              "         [1.        ],\n",
              "         [1.        ],\n",
              "         [1.        ],\n",
              "         [1.        ],\n",
              "         [1.        ],\n",
              "         [1.        ],\n",
              "         [1.        ],\n",
              "         [1.        ],\n",
              "         [1.        ],\n",
              "         [1.        ],\n",
              "         [1.        ],\n",
              "         [1.        ],\n",
              "         [1.        ],\n",
              "         [1.        ],\n",
              "         [1.        ],\n",
              "         [0.        ],\n",
              "         [1.        ]],\n",
              "\n",
              "        [[1.        ],\n",
              "         [1.        ],\n",
              "         [1.        ],\n",
              "         [1.        ],\n",
              "         [1.        ],\n",
              "         [1.        ],\n",
              "         [1.        ],\n",
              "         [1.        ],\n",
              "         [1.        ],\n",
              "         [1.        ],\n",
              "         [1.        ],\n",
              "         [1.        ],\n",
              "         [1.        ],\n",
              "         [1.        ],\n",
              "         [1.        ],\n",
              "         [1.        ],\n",
              "         [1.        ],\n",
              "         [1.        ],\n",
              "         [1.        ],\n",
              "         [1.        ],\n",
              "         [1.        ],\n",
              "         [1.        ],\n",
              "         [1.        ],\n",
              "         [1.        ],\n",
              "         [1.        ],\n",
              "         [1.        ],\n",
              "         [1.        ],\n",
              "         [1.        ]],\n",
              "\n",
              "        [[1.        ],\n",
              "         [1.        ],\n",
              "         [1.        ],\n",
              "         [1.        ],\n",
              "         [1.        ],\n",
              "         [1.        ],\n",
              "         [1.        ],\n",
              "         [1.        ],\n",
              "         [1.        ],\n",
              "         [1.        ],\n",
              "         [1.        ],\n",
              "         [1.        ],\n",
              "         [1.        ],\n",
              "         [1.        ],\n",
              "         [1.        ],\n",
              "         [1.        ],\n",
              "         [1.        ],\n",
              "         [1.        ],\n",
              "         [1.        ],\n",
              "         [1.        ],\n",
              "         [1.        ],\n",
              "         [1.        ],\n",
              "         [1.        ],\n",
              "         [1.        ],\n",
              "         [1.        ],\n",
              "         [1.        ],\n",
              "         [1.        ],\n",
              "         [1.        ]],\n",
              "\n",
              "        [[1.        ],\n",
              "         [1.        ],\n",
              "         [1.        ],\n",
              "         [1.        ],\n",
              "         [1.        ],\n",
              "         [1.        ],\n",
              "         [1.        ],\n",
              "         [1.        ],\n",
              "         [1.        ],\n",
              "         [1.        ],\n",
              "         [1.        ],\n",
              "         [1.        ],\n",
              "         [1.        ],\n",
              "         [1.        ],\n",
              "         [1.        ],\n",
              "         [1.        ],\n",
              "         [1.        ],\n",
              "         [1.        ],\n",
              "         [1.        ],\n",
              "         [1.        ],\n",
              "         [1.        ],\n",
              "         [1.        ],\n",
              "         [1.        ],\n",
              "         [1.        ],\n",
              "         [1.        ],\n",
              "         [1.        ],\n",
              "         [1.        ],\n",
              "         [1.        ]],\n",
              "\n",
              "        [[1.        ],\n",
              "         [1.        ],\n",
              "         [1.        ],\n",
              "         [1.        ],\n",
              "         [1.        ],\n",
              "         [1.        ],\n",
              "         [1.        ],\n",
              "         [1.        ],\n",
              "         [1.        ],\n",
              "         [1.        ],\n",
              "         [1.        ],\n",
              "         [1.        ],\n",
              "         [1.        ],\n",
              "         [1.        ],\n",
              "         [1.        ],\n",
              "         [1.        ],\n",
              "         [1.        ],\n",
              "         [1.        ],\n",
              "         [1.        ],\n",
              "         [1.        ],\n",
              "         [1.        ],\n",
              "         [1.        ],\n",
              "         [1.        ],\n",
              "         [1.        ],\n",
              "         [1.        ],\n",
              "         [1.        ],\n",
              "         [1.        ],\n",
              "         [1.        ]],\n",
              "\n",
              "        [[1.        ],\n",
              "         [1.        ],\n",
              "         [1.        ],\n",
              "         [1.        ],\n",
              "         [1.        ],\n",
              "         [1.        ],\n",
              "         [1.        ],\n",
              "         [1.        ],\n",
              "         [1.        ],\n",
              "         [1.        ],\n",
              "         [1.        ],\n",
              "         [1.        ],\n",
              "         [1.        ],\n",
              "         [1.        ],\n",
              "         [1.        ],\n",
              "         [1.        ],\n",
              "         [1.        ],\n",
              "         [1.        ],\n",
              "         [1.        ],\n",
              "         [1.        ],\n",
              "         [1.        ],\n",
              "         [1.        ],\n",
              "         [1.        ],\n",
              "         [1.        ],\n",
              "         [1.        ],\n",
              "         [1.        ],\n",
              "         [1.        ],\n",
              "         [1.        ]],\n",
              "\n",
              "        [[1.        ],\n",
              "         [1.        ],\n",
              "         [1.        ],\n",
              "         [1.        ],\n",
              "         [1.        ],\n",
              "         [1.        ],\n",
              "         [1.        ],\n",
              "         [1.        ],\n",
              "         [1.        ],\n",
              "         [1.        ],\n",
              "         [1.        ],\n",
              "         [1.        ],\n",
              "         [1.        ],\n",
              "         [1.        ],\n",
              "         [1.        ],\n",
              "         [1.        ],\n",
              "         [1.        ],\n",
              "         [1.        ],\n",
              "         [1.        ],\n",
              "         [1.        ],\n",
              "         [1.        ],\n",
              "         [1.        ],\n",
              "         [1.        ],\n",
              "         [1.        ],\n",
              "         [1.        ],\n",
              "         [1.        ],\n",
              "         [0.28235294],\n",
              "         [1.        ]],\n",
              "\n",
              "        [[1.        ],\n",
              "         [1.        ],\n",
              "         [1.        ],\n",
              "         [1.        ],\n",
              "         [1.        ],\n",
              "         [1.        ],\n",
              "         [1.        ],\n",
              "         [1.        ],\n",
              "         [0.1254902 ],\n",
              "         [1.        ],\n",
              "         [1.        ],\n",
              "         [1.        ],\n",
              "         [1.        ],\n",
              "         [1.        ],\n",
              "         [1.        ],\n",
              "         [1.        ],\n",
              "         [1.        ],\n",
              "         [1.        ],\n",
              "         [1.        ],\n",
              "         [1.        ],\n",
              "         [1.        ],\n",
              "         [1.        ],\n",
              "         [1.        ],\n",
              "         [1.        ],\n",
              "         [1.        ],\n",
              "         [0.28235294],\n",
              "         [1.        ],\n",
              "         [1.        ]],\n",
              "\n",
              "        [[1.        ],\n",
              "         [1.        ],\n",
              "         [1.        ],\n",
              "         [1.        ],\n",
              "         [1.        ],\n",
              "         [1.        ],\n",
              "         [1.        ],\n",
              "         [1.        ],\n",
              "         [1.        ],\n",
              "         [1.        ],\n",
              "         [0.        ],\n",
              "         [1.        ],\n",
              "         [1.        ],\n",
              "         [1.        ],\n",
              "         [1.        ],\n",
              "         [1.        ],\n",
              "         [1.        ],\n",
              "         [1.        ],\n",
              "         [1.        ],\n",
              "         [1.        ],\n",
              "         [1.        ],\n",
              "         [1.        ],\n",
              "         [1.        ],\n",
              "         [0.        ],\n",
              "         [1.        ],\n",
              "         [1.        ],\n",
              "         [1.        ],\n",
              "         [1.        ]],\n",
              "\n",
              "        [[1.        ],\n",
              "         [1.        ],\n",
              "         [1.        ],\n",
              "         [1.        ],\n",
              "         [1.        ],\n",
              "         [1.        ],\n",
              "         [1.        ],\n",
              "         [1.        ],\n",
              "         [1.        ],\n",
              "         [1.        ],\n",
              "         [1.        ],\n",
              "         [1.        ],\n",
              "         [1.        ],\n",
              "         [1.        ],\n",
              "         [1.        ],\n",
              "         [1.        ],\n",
              "         [1.        ],\n",
              "         [1.        ],\n",
              "         [1.        ],\n",
              "         [1.        ],\n",
              "         [1.        ],\n",
              "         [1.        ],\n",
              "         [1.        ],\n",
              "         [1.        ],\n",
              "         [1.        ],\n",
              "         [1.        ],\n",
              "         [1.        ],\n",
              "         [1.        ]],\n",
              "\n",
              "        [[1.        ],\n",
              "         [1.        ],\n",
              "         [1.        ],\n",
              "         [1.        ],\n",
              "         [1.        ],\n",
              "         [1.        ],\n",
              "         [1.        ],\n",
              "         [1.        ],\n",
              "         [1.        ],\n",
              "         [1.        ],\n",
              "         [1.        ],\n",
              "         [1.        ],\n",
              "         [1.        ],\n",
              "         [1.        ],\n",
              "         [1.        ],\n",
              "         [1.        ],\n",
              "         [1.        ],\n",
              "         [1.        ],\n",
              "         [1.        ],\n",
              "         [1.        ],\n",
              "         [1.        ],\n",
              "         [1.        ],\n",
              "         [1.        ],\n",
              "         [1.        ],\n",
              "         [1.        ],\n",
              "         [1.        ],\n",
              "         [1.        ],\n",
              "         [1.        ]],\n",
              "\n",
              "        [[1.        ],\n",
              "         [1.        ],\n",
              "         [1.        ],\n",
              "         [1.        ],\n",
              "         [1.        ],\n",
              "         [1.        ],\n",
              "         [1.        ],\n",
              "         [1.        ],\n",
              "         [1.        ],\n",
              "         [1.        ],\n",
              "         [1.        ],\n",
              "         [1.        ],\n",
              "         [1.        ],\n",
              "         [1.        ],\n",
              "         [1.        ],\n",
              "         [1.        ],\n",
              "         [1.        ],\n",
              "         [1.        ],\n",
              "         [1.        ],\n",
              "         [1.        ],\n",
              "         [1.        ],\n",
              "         [1.        ],\n",
              "         [1.        ],\n",
              "         [1.        ],\n",
              "         [1.        ],\n",
              "         [1.        ],\n",
              "         [1.        ],\n",
              "         [1.        ]],\n",
              "\n",
              "        [[1.        ],\n",
              "         [1.        ],\n",
              "         [1.        ],\n",
              "         [1.        ],\n",
              "         [1.        ],\n",
              "         [1.        ],\n",
              "         [1.        ],\n",
              "         [1.        ],\n",
              "         [1.        ],\n",
              "         [1.        ],\n",
              "         [1.        ],\n",
              "         [1.        ],\n",
              "         [1.        ],\n",
              "         [1.        ],\n",
              "         [1.        ],\n",
              "         [1.        ],\n",
              "         [1.        ],\n",
              "         [1.        ],\n",
              "         [1.        ],\n",
              "         [1.        ],\n",
              "         [1.        ],\n",
              "         [1.        ],\n",
              "         [1.        ],\n",
              "         [1.        ],\n",
              "         [1.        ],\n",
              "         [1.        ],\n",
              "         [1.        ],\n",
              "         [1.        ]],\n",
              "\n",
              "        [[1.        ],\n",
              "         [1.        ],\n",
              "         [1.        ],\n",
              "         [1.        ],\n",
              "         [1.        ],\n",
              "         [1.        ],\n",
              "         [1.        ],\n",
              "         [1.        ],\n",
              "         [1.        ],\n",
              "         [1.        ],\n",
              "         [1.        ],\n",
              "         [1.        ],\n",
              "         [1.        ],\n",
              "         [1.        ],\n",
              "         [1.        ],\n",
              "         [1.        ],\n",
              "         [1.        ],\n",
              "         [1.        ],\n",
              "         [1.        ],\n",
              "         [1.        ],\n",
              "         [1.        ],\n",
              "         [1.        ],\n",
              "         [1.        ],\n",
              "         [1.        ],\n",
              "         [1.        ],\n",
              "         [1.        ],\n",
              "         [1.        ],\n",
              "         [1.        ]],\n",
              "\n",
              "        [[1.        ],\n",
              "         [1.        ],\n",
              "         [1.        ],\n",
              "         [1.        ],\n",
              "         [1.        ],\n",
              "         [1.        ],\n",
              "         [1.        ],\n",
              "         [1.        ],\n",
              "         [1.        ],\n",
              "         [1.        ],\n",
              "         [1.        ],\n",
              "         [1.        ],\n",
              "         [1.        ],\n",
              "         [1.        ],\n",
              "         [1.        ],\n",
              "         [1.        ],\n",
              "         [1.        ],\n",
              "         [1.        ],\n",
              "         [1.        ],\n",
              "         [1.        ],\n",
              "         [1.        ],\n",
              "         [1.        ],\n",
              "         [1.        ],\n",
              "         [1.        ],\n",
              "         [1.        ],\n",
              "         [1.        ],\n",
              "         [1.        ],\n",
              "         [1.        ]],\n",
              "\n",
              "        [[1.        ],\n",
              "         [1.        ],\n",
              "         [1.        ],\n",
              "         [1.        ],\n",
              "         [1.        ],\n",
              "         [1.        ],\n",
              "         [1.        ],\n",
              "         [1.        ],\n",
              "         [1.        ],\n",
              "         [1.        ],\n",
              "         [1.        ],\n",
              "         [1.        ],\n",
              "         [1.        ],\n",
              "         [1.        ],\n",
              "         [1.        ],\n",
              "         [1.        ],\n",
              "         [1.        ],\n",
              "         [1.        ],\n",
              "         [1.        ],\n",
              "         [1.        ],\n",
              "         [1.        ],\n",
              "         [1.        ],\n",
              "         [1.        ],\n",
              "         [1.        ],\n",
              "         [1.        ],\n",
              "         [1.        ],\n",
              "         [1.        ],\n",
              "         [1.        ]],\n",
              "\n",
              "        [[1.        ],\n",
              "         [1.        ],\n",
              "         [1.        ],\n",
              "         [1.        ],\n",
              "         [1.        ],\n",
              "         [1.        ],\n",
              "         [1.        ],\n",
              "         [1.        ],\n",
              "         [1.        ],\n",
              "         [1.        ],\n",
              "         [1.        ],\n",
              "         [1.        ],\n",
              "         [1.        ],\n",
              "         [1.        ],\n",
              "         [1.        ],\n",
              "         [1.        ],\n",
              "         [1.        ],\n",
              "         [1.        ],\n",
              "         [1.        ],\n",
              "         [1.        ],\n",
              "         [1.        ],\n",
              "         [1.        ],\n",
              "         [1.        ],\n",
              "         [1.        ],\n",
              "         [1.        ],\n",
              "         [1.        ],\n",
              "         [1.        ],\n",
              "         [1.        ]]]])"
            ]
          },
          "metadata": {
            "tags": []
          },
          "execution_count": 504
        }
      ]
    },
    {
      "cell_type": "code",
      "metadata": {
        "id": "dHnaiCdKEea3",
        "colab_type": "code",
        "colab": {}
      },
      "source": [
        "img_class = model.predict_classes(test_img)"
      ],
      "execution_count": 505,
      "outputs": []
    },
    {
      "cell_type": "code",
      "metadata": {
        "id": "KOPP1K2KEnFc",
        "colab_type": "code",
        "colab": {}
      },
      "source": [
        "prediction = img_class[0]"
      ],
      "execution_count": 506,
      "outputs": []
    },
    {
      "cell_type": "code",
      "metadata": {
        "id": "vWf4ihrZEqWX",
        "colab_type": "code",
        "colab": {
          "base_uri": "https://localhost:8080/",
          "height": 34
        },
        "outputId": "7a1c8ad9-3305-40cb-89dc-2acf88e54430"
      },
      "source": [
        "prediction"
      ],
      "execution_count": 507,
      "outputs": [
        {
          "output_type": "execute_result",
          "data": {
            "text/plain": [
              "9"
            ]
          },
          "metadata": {
            "tags": []
          },
          "execution_count": 507
        }
      ]
    },
    {
      "cell_type": "code",
      "metadata": {
        "id": "ua6tcKFkEsW4",
        "colab_type": "code",
        "colab": {}
      },
      "source": [
        ""
      ],
      "execution_count": 507,
      "outputs": []
    }
  ]
}